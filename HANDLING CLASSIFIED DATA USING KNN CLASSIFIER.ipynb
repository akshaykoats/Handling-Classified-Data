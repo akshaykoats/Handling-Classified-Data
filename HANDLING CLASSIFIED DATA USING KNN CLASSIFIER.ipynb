{
 "cells": [
  {
   "cell_type": "code",
   "execution_count": 1,
   "metadata": {},
   "outputs": [],
   "source": [
    "#IMPORTING LIBRARIES\n",
    "import numpy as np\n",
    "import pandas as pd\n",
    "import seaborn as sns \n",
    "import matplotlib.pyplot as plt\n",
    "%matplotlib inline"
   ]
  },
  {
   "cell_type": "code",
   "execution_count": 4,
   "metadata": {},
   "outputs": [
    {
     "data": {
      "text/html": [
       "<div>\n",
       "<style scoped>\n",
       "    .dataframe tbody tr th:only-of-type {\n",
       "        vertical-align: middle;\n",
       "    }\n",
       "\n",
       "    .dataframe tbody tr th {\n",
       "        vertical-align: top;\n",
       "    }\n",
       "\n",
       "    .dataframe thead th {\n",
       "        text-align: right;\n",
       "    }\n",
       "</style>\n",
       "<table border=\"1\" class=\"dataframe\">\n",
       "  <thead>\n",
       "    <tr style=\"text-align: right;\">\n",
       "      <th></th>\n",
       "      <th>WTT</th>\n",
       "      <th>PTI</th>\n",
       "      <th>EQW</th>\n",
       "      <th>SBI</th>\n",
       "      <th>LQE</th>\n",
       "      <th>QWG</th>\n",
       "      <th>FDJ</th>\n",
       "      <th>PJF</th>\n",
       "      <th>HQE</th>\n",
       "      <th>NXJ</th>\n",
       "      <th>TARGET CLASS</th>\n",
       "    </tr>\n",
       "  </thead>\n",
       "  <tbody>\n",
       "    <tr>\n",
       "      <th>0</th>\n",
       "      <td>0.913917</td>\n",
       "      <td>1.162073</td>\n",
       "      <td>0.567946</td>\n",
       "      <td>0.755464</td>\n",
       "      <td>0.780862</td>\n",
       "      <td>0.352608</td>\n",
       "      <td>0.759697</td>\n",
       "      <td>0.643798</td>\n",
       "      <td>0.879422</td>\n",
       "      <td>1.231409</td>\n",
       "      <td>1</td>\n",
       "    </tr>\n",
       "    <tr>\n",
       "      <th>1</th>\n",
       "      <td>0.635632</td>\n",
       "      <td>1.003722</td>\n",
       "      <td>0.535342</td>\n",
       "      <td>0.825645</td>\n",
       "      <td>0.924109</td>\n",
       "      <td>0.648450</td>\n",
       "      <td>0.675334</td>\n",
       "      <td>1.013546</td>\n",
       "      <td>0.621552</td>\n",
       "      <td>1.492702</td>\n",
       "      <td>0</td>\n",
       "    </tr>\n",
       "    <tr>\n",
       "      <th>2</th>\n",
       "      <td>0.721360</td>\n",
       "      <td>1.201493</td>\n",
       "      <td>0.921990</td>\n",
       "      <td>0.855595</td>\n",
       "      <td>1.526629</td>\n",
       "      <td>0.720781</td>\n",
       "      <td>1.626351</td>\n",
       "      <td>1.154483</td>\n",
       "      <td>0.957877</td>\n",
       "      <td>1.285597</td>\n",
       "      <td>0</td>\n",
       "    </tr>\n",
       "    <tr>\n",
       "      <th>3</th>\n",
       "      <td>1.234204</td>\n",
       "      <td>1.386726</td>\n",
       "      <td>0.653046</td>\n",
       "      <td>0.825624</td>\n",
       "      <td>1.142504</td>\n",
       "      <td>0.875128</td>\n",
       "      <td>1.409708</td>\n",
       "      <td>1.380003</td>\n",
       "      <td>1.522692</td>\n",
       "      <td>1.153093</td>\n",
       "      <td>1</td>\n",
       "    </tr>\n",
       "    <tr>\n",
       "      <th>4</th>\n",
       "      <td>1.279491</td>\n",
       "      <td>0.949750</td>\n",
       "      <td>0.627280</td>\n",
       "      <td>0.668976</td>\n",
       "      <td>1.232537</td>\n",
       "      <td>0.703727</td>\n",
       "      <td>1.115596</td>\n",
       "      <td>0.646691</td>\n",
       "      <td>1.463812</td>\n",
       "      <td>1.419167</td>\n",
       "      <td>1</td>\n",
       "    </tr>\n",
       "  </tbody>\n",
       "</table>\n",
       "</div>"
      ],
      "text/plain": [
       "        WTT       PTI       EQW       SBI       LQE       QWG       FDJ  \\\n",
       "0  0.913917  1.162073  0.567946  0.755464  0.780862  0.352608  0.759697   \n",
       "1  0.635632  1.003722  0.535342  0.825645  0.924109  0.648450  0.675334   \n",
       "2  0.721360  1.201493  0.921990  0.855595  1.526629  0.720781  1.626351   \n",
       "3  1.234204  1.386726  0.653046  0.825624  1.142504  0.875128  1.409708   \n",
       "4  1.279491  0.949750  0.627280  0.668976  1.232537  0.703727  1.115596   \n",
       "\n",
       "        PJF       HQE       NXJ  TARGET CLASS  \n",
       "0  0.643798  0.879422  1.231409             1  \n",
       "1  1.013546  0.621552  1.492702             0  \n",
       "2  1.154483  0.957877  1.285597             0  \n",
       "3  1.380003  1.522692  1.153093             1  \n",
       "4  0.646691  1.463812  1.419167             1  "
      ]
     },
     "execution_count": 4,
     "metadata": {},
     "output_type": "execute_result"
    }
   ],
   "source": [
    "#importing dataset\n",
    "dataset = pd.read_csv('Classified Data', index_col =0)\n",
    "dataset.head()"
   ]
  },
  {
   "cell_type": "code",
   "execution_count": 5,
   "metadata": {},
   "outputs": [],
   "source": [
    "#PREROCESSING THE DATA. STANDARDIZING THE DATA\n",
    "from sklearn.preprocessing import StandardScaler\n",
    "scaler = StandardScaler()\n",
    "scaler.fit(dataset.drop('TARGET CLASS', axis=1))\n",
    "scaled_feature = scaler.transform(dataset.drop('TARGET CLASS', axis =1))"
   ]
  },
  {
   "cell_type": "code",
   "execution_count": 6,
   "metadata": {},
   "outputs": [
    {
     "data": {
      "text/html": [
       "<div>\n",
       "<style scoped>\n",
       "    .dataframe tbody tr th:only-of-type {\n",
       "        vertical-align: middle;\n",
       "    }\n",
       "\n",
       "    .dataframe tbody tr th {\n",
       "        vertical-align: top;\n",
       "    }\n",
       "\n",
       "    .dataframe thead th {\n",
       "        text-align: right;\n",
       "    }\n",
       "</style>\n",
       "<table border=\"1\" class=\"dataframe\">\n",
       "  <thead>\n",
       "    <tr style=\"text-align: right;\">\n",
       "      <th></th>\n",
       "      <th>WTT</th>\n",
       "      <th>PTI</th>\n",
       "      <th>EQW</th>\n",
       "      <th>SBI</th>\n",
       "      <th>LQE</th>\n",
       "      <th>QWG</th>\n",
       "      <th>FDJ</th>\n",
       "      <th>PJF</th>\n",
       "      <th>HQE</th>\n",
       "      <th>NXJ</th>\n",
       "    </tr>\n",
       "  </thead>\n",
       "  <tbody>\n",
       "    <tr>\n",
       "      <th>count</th>\n",
       "      <td>1.000000e+03</td>\n",
       "      <td>1.000000e+03</td>\n",
       "      <td>1.000000e+03</td>\n",
       "      <td>1.000000e+03</td>\n",
       "      <td>1.000000e+03</td>\n",
       "      <td>1.000000e+03</td>\n",
       "      <td>1.000000e+03</td>\n",
       "      <td>1.000000e+03</td>\n",
       "      <td>1.000000e+03</td>\n",
       "      <td>1.000000e+03</td>\n",
       "    </tr>\n",
       "    <tr>\n",
       "      <th>mean</th>\n",
       "      <td>1.394440e-16</td>\n",
       "      <td>-2.658984e-16</td>\n",
       "      <td>-9.992007e-17</td>\n",
       "      <td>-1.432188e-16</td>\n",
       "      <td>-6.134537e-16</td>\n",
       "      <td>2.486900e-17</td>\n",
       "      <td>6.682432e-16</td>\n",
       "      <td>-4.778400e-16</td>\n",
       "      <td>3.358980e-16</td>\n",
       "      <td>4.650169e-16</td>\n",
       "    </tr>\n",
       "    <tr>\n",
       "      <th>std</th>\n",
       "      <td>1.000500e+00</td>\n",
       "      <td>1.000500e+00</td>\n",
       "      <td>1.000500e+00</td>\n",
       "      <td>1.000500e+00</td>\n",
       "      <td>1.000500e+00</td>\n",
       "      <td>1.000500e+00</td>\n",
       "      <td>1.000500e+00</td>\n",
       "      <td>1.000500e+00</td>\n",
       "      <td>1.000500e+00</td>\n",
       "      <td>1.000500e+00</td>\n",
       "    </tr>\n",
       "    <tr>\n",
       "      <th>min</th>\n",
       "      <td>-2.678050e+00</td>\n",
       "      <td>-2.618747e+00</td>\n",
       "      <td>-2.275858e+00</td>\n",
       "      <td>-2.775551e+00</td>\n",
       "      <td>-2.947206e+00</td>\n",
       "      <td>-2.660802e+00</td>\n",
       "      <td>-2.620466e+00</td>\n",
       "      <td>-2.674465e+00</td>\n",
       "      <td>-2.701361e+00</td>\n",
       "      <td>-3.542140e+00</td>\n",
       "    </tr>\n",
       "    <tr>\n",
       "      <th>25%</th>\n",
       "      <td>-7.161683e-01</td>\n",
       "      <td>-6.702761e-01</td>\n",
       "      <td>-7.504105e-01</td>\n",
       "      <td>-7.279635e-01</td>\n",
       "      <td>-6.637361e-01</td>\n",
       "      <td>-7.127975e-01</td>\n",
       "      <td>-7.020467e-01</td>\n",
       "      <td>-7.120098e-01</td>\n",
       "      <td>-7.626629e-01</td>\n",
       "      <td>-6.863610e-01</td>\n",
       "    </tr>\n",
       "    <tr>\n",
       "      <th>50%</th>\n",
       "      <td>-3.180217e-02</td>\n",
       "      <td>1.628137e-02</td>\n",
       "      <td>-7.159299e-02</td>\n",
       "      <td>-2.293699e-02</td>\n",
       "      <td>1.433731e-02</td>\n",
       "      <td>-7.940354e-03</td>\n",
       "      <td>-7.093937e-02</td>\n",
       "      <td>-2.236584e-02</td>\n",
       "      <td>2.488297e-02</td>\n",
       "      <td>6.194010e-02</td>\n",
       "    </tr>\n",
       "    <tr>\n",
       "      <th>75%</th>\n",
       "      <td>7.378939e-01</td>\n",
       "      <td>7.534412e-01</td>\n",
       "      <td>6.664646e-01</td>\n",
       "      <td>6.631695e-01</td>\n",
       "      <td>6.820374e-01</td>\n",
       "      <td>7.012930e-01</td>\n",
       "      <td>6.723000e-01</td>\n",
       "      <td>7.311915e-01</td>\n",
       "      <td>7.661087e-01</td>\n",
       "      <td>6.961851e-01</td>\n",
       "    </tr>\n",
       "    <tr>\n",
       "      <th>max</th>\n",
       "      <td>2.667092e+00</td>\n",
       "      <td>2.799904e+00</td>\n",
       "      <td>3.049325e+00</td>\n",
       "      <td>4.151021e+00</td>\n",
       "      <td>2.538987e+00</td>\n",
       "      <td>2.825739e+00</td>\n",
       "      <td>2.940974e+00</td>\n",
       "      <td>2.470109e+00</td>\n",
       "      <td>2.477734e+00</td>\n",
       "      <td>2.602476e+00</td>\n",
       "    </tr>\n",
       "  </tbody>\n",
       "</table>\n",
       "</div>"
      ],
      "text/plain": [
       "                WTT           PTI           EQW           SBI           LQE  \\\n",
       "count  1.000000e+03  1.000000e+03  1.000000e+03  1.000000e+03  1.000000e+03   \n",
       "mean   1.394440e-16 -2.658984e-16 -9.992007e-17 -1.432188e-16 -6.134537e-16   \n",
       "std    1.000500e+00  1.000500e+00  1.000500e+00  1.000500e+00  1.000500e+00   \n",
       "min   -2.678050e+00 -2.618747e+00 -2.275858e+00 -2.775551e+00 -2.947206e+00   \n",
       "25%   -7.161683e-01 -6.702761e-01 -7.504105e-01 -7.279635e-01 -6.637361e-01   \n",
       "50%   -3.180217e-02  1.628137e-02 -7.159299e-02 -2.293699e-02  1.433731e-02   \n",
       "75%    7.378939e-01  7.534412e-01  6.664646e-01  6.631695e-01  6.820374e-01   \n",
       "max    2.667092e+00  2.799904e+00  3.049325e+00  4.151021e+00  2.538987e+00   \n",
       "\n",
       "                QWG           FDJ           PJF           HQE           NXJ  \n",
       "count  1.000000e+03  1.000000e+03  1.000000e+03  1.000000e+03  1.000000e+03  \n",
       "mean   2.486900e-17  6.682432e-16 -4.778400e-16  3.358980e-16  4.650169e-16  \n",
       "std    1.000500e+00  1.000500e+00  1.000500e+00  1.000500e+00  1.000500e+00  \n",
       "min   -2.660802e+00 -2.620466e+00 -2.674465e+00 -2.701361e+00 -3.542140e+00  \n",
       "25%   -7.127975e-01 -7.020467e-01 -7.120098e-01 -7.626629e-01 -6.863610e-01  \n",
       "50%   -7.940354e-03 -7.093937e-02 -2.236584e-02  2.488297e-02  6.194010e-02  \n",
       "75%    7.012930e-01  6.723000e-01  7.311915e-01  7.661087e-01  6.961851e-01  \n",
       "max    2.825739e+00  2.940974e+00  2.470109e+00  2.477734e+00  2.602476e+00  "
      ]
     },
     "execution_count": 6,
     "metadata": {},
     "output_type": "execute_result"
    }
   ],
   "source": [
    "#DATASET OF TRANSFORMED FEATURES\n",
    "df_feat = pd.DataFrame(scaled_feature,columns=dataset.columns[:-1])\n",
    "df_feat.describe()"
   ]
  },
  {
   "cell_type": "code",
   "execution_count": 7,
   "metadata": {},
   "outputs": [],
   "source": [
    "#AGAIN USING LINEAR REGRESSION\n",
    "from sklearn.linear_model import LinearRegression\n",
    "from sklearn.model_selection import train_test_split \n",
    "xtrain,xtest,ytrain,ytest = train_test_split(df_feat, dataset['TARGET CLASS'], test_size=0.4, random_state=9281)"
   ]
  },
  {
   "cell_type": "code",
   "execution_count": 8,
   "metadata": {},
   "outputs": [],
   "source": [
    "#USIGN KNeighboursClassifier \n",
    "from sklearn.neighbors import KNeighborsClassifier\n",
    "knnClassifier = KNeighborsClassifier(n_neighbors=8)"
   ]
  },
  {
   "cell_type": "code",
   "execution_count": 9,
   "metadata": {},
   "outputs": [],
   "source": [
    "knnClassifier.fit(xtrain,ytrain)\n",
    "\n",
    "pred = knnClassifier.predict(xtest)"
   ]
  },
  {
   "cell_type": "code",
   "execution_count": 10,
   "metadata": {},
   "outputs": [
    {
     "data": {
      "text/plain": [
       "0.06"
      ]
     },
     "execution_count": 10,
     "metadata": {},
     "output_type": "execute_result"
    }
   ],
   "source": [
    "#USING METRICS TO CALCULATE ERROR\n",
    "from sklearn.metrics import mean_squared_error as mse\n",
    "mse(ytest,pred)"
   ]
  },
  {
   "cell_type": "code",
   "execution_count": 11,
   "metadata": {},
   "outputs": [
    {
     "data": {
      "text/plain": [
       "0.94"
      ]
     },
     "execution_count": 11,
     "metadata": {},
     "output_type": "execute_result"
    }
   ],
   "source": [
    "#SCORE OF THE MODEL\n",
    "knnClassifier.score(xtest,ytest)"
   ]
  },
  {
   "cell_type": "code",
   "execution_count": 14,
   "metadata": {},
   "outputs": [
    {
     "name": "stdout",
     "output_type": "stream",
     "text": [
      "0.0725\n",
      "0.0775\n",
      "0.07\n",
      "0.0675\n",
      "0.065\n",
      "0.0625\n",
      "0.07\n",
      "0.06\n",
      "0.06\n",
      "0.055\n",
      "0.0625\n",
      "0.055\n",
      "0.0575\n",
      "0.05\n",
      "0.0525\n",
      "0.0575\n",
      "0.05\n",
      "0.05\n",
      "0.055\n"
     ]
    }
   ],
   "source": [
    "#ERROR RATE OF THE MODEL\n",
    "error_rate = []\n",
    "for i in range(1,20):\n",
    "    knn = KNeighborsClassifier(n_neighbors=i)\n",
    "    knn.fit(xtrain,ytrain)\n",
    "    pred = knn.predict(xtest)\n",
    "    error_rate.append(np.mean(pred != ytest))\n",
    "    print(error_rate[i-1])"
   ]
  },
  {
   "cell_type": "code",
   "execution_count": 15,
   "metadata": {},
   "outputs": [
    {
     "data": {
      "text/plain": [
       "[<matplotlib.lines.Line2D at 0x46e0210>]"
      ]
     },
     "execution_count": 15,
     "metadata": {},
     "output_type": "execute_result"
    },
    {
     "data": {
      "image/png": "[encoded data removed]",
      "text/plain": [
       "<Figure size 720x432 with 1 Axes>"
      ]
     },
     "metadata": {
      "needs_background": "light"
     },
     "output_type": "display_data"
    }
   ],
   "source": [
    "#VIZUALIZE A PLOT OF MY ERROR RATE\n",
    "plt.figure(figsize=(10,6))\n",
    "plt.plot(range(1,20),error_rate, color='blue',linestyle='dashed')"
   ]
  },
  {
   "cell_type": "code",
   "execution_count": null,
   "metadata": {},
   "outputs": [],
   "source": [
    "#THANK YOU\n"
   ]
  }
 ],
 "metadata": {
  "kernelspec": {
   "display_name": "Python 3",
   "language": "python",
   "name": "python3"
  },
  "language_info": {
   "codemirror_mode": {
    "name": "ipython",
    "version": 3
   },
   "file_extension": ".py",
   "mimetype": "text/x-python",
   "name": "python",
   "nbconvert_exporter": "python",
   "pygments_lexer": "ipython3",
   "version": "3.5.6"
  }
 },
 "nbformat": 4,
 "nbformat_minor": 2
}
